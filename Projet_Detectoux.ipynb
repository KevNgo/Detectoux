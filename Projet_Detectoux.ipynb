{
 "cells": [
  {
   "cell_type": "code",
   "execution_count": 1,
   "id": "948046bb-a2a7-463a-83c6-770c8a04c979",
   "metadata": {},
   "outputs": [],
   "source": [
    "from pathlib import Path\n",
    "import pandas as pd\n",
    "import librosa\n",
    "import librosa.display\n",
    "import matplotlib.pyplot as plt\n",
    "import numpy as np\n",
    "import os"
   ]
  },
  {
   "cell_type": "code",
   "execution_count": 2,
   "id": "0142e373-c2b7-47cf-afb6-363e161be346",
   "metadata": {},
   "outputs": [],
   "source": [
    "df=pd.read_csv(os.path.abspath(\"virufy-data-main/clinical/noise_added_dataset.csv\"))"
   ]
  },
  {
   "cell_type": "code",
   "execution_count": 3,
   "id": "dc04c54e-0394-4b93-8670-5ae20e69335d",
   "metadata": {},
   "outputs": [
    {
     "data": {
      "text/html": [
       "<div>\n",
       "<style scoped>\n",
       "    .dataframe tbody tr th:only-of-type {\n",
       "        vertical-align: middle;\n",
       "    }\n",
       "\n",
       "    .dataframe tbody tr th {\n",
       "        vertical-align: top;\n",
       "    }\n",
       "\n",
       "    .dataframe thead th {\n",
       "        text-align: right;\n",
       "    }\n",
       "</style>\n",
       "<table border=\"1\" class=\"dataframe\">\n",
       "  <thead>\n",
       "    <tr style=\"text-align: right;\">\n",
       "      <th></th>\n",
       "      <th>age</th>\n",
       "      <th>gender</th>\n",
       "      <th>medical_history</th>\n",
       "      <th>smoker</th>\n",
       "      <th>patient_reported_symptoms</th>\n",
       "      <th>has_Covid19</th>\n",
       "    </tr>\n",
       "  </thead>\n",
       "  <tbody>\n",
       "    <tr>\n",
       "      <th>0</th>\n",
       "      <td>24.0</td>\n",
       "      <td>female</td>\n",
       "      <td>none,</td>\n",
       "      <td>no</td>\n",
       "      <td>New or worsening cough,</td>\n",
       "      <td>0.0</td>\n",
       "    </tr>\n",
       "    <tr>\n",
       "      <th>1</th>\n",
       "      <td>24.0</td>\n",
       "      <td>female</td>\n",
       "      <td>none,</td>\n",
       "      <td>no</td>\n",
       "      <td>New or worsening cough,</td>\n",
       "      <td>0.0</td>\n",
       "    </tr>\n",
       "    <tr>\n",
       "      <th>2</th>\n",
       "      <td>24.0</td>\n",
       "      <td>female</td>\n",
       "      <td>none,</td>\n",
       "      <td>no</td>\n",
       "      <td>New or worsening cough,</td>\n",
       "      <td>0.0</td>\n",
       "    </tr>\n",
       "    <tr>\n",
       "      <th>3</th>\n",
       "      <td>37.0</td>\n",
       "      <td>male</td>\n",
       "      <td>none,</td>\n",
       "      <td>no</td>\n",
       "      <td>none,</td>\n",
       "      <td>0.0</td>\n",
       "    </tr>\n",
       "    <tr>\n",
       "      <th>4</th>\n",
       "      <td>37.0</td>\n",
       "      <td>male</td>\n",
       "      <td>none,</td>\n",
       "      <td>no</td>\n",
       "      <td>none,</td>\n",
       "      <td>0.0</td>\n",
       "    </tr>\n",
       "  </tbody>\n",
       "</table>\n",
       "</div>"
      ],
      "text/plain": [
       "    age  gender medical_history smoker patient_reported_symptoms  has_Covid19\n",
       "0  24.0  female           none,     no   New or worsening cough,          0.0\n",
       "1  24.0  female           none,     no   New or worsening cough,          0.0\n",
       "2  24.0  female           none,     no   New or worsening cough,          0.0\n",
       "3  37.0    male           none,     no                     none,          0.0\n",
       "4  37.0    male           none,     no                     none,          0.0"
      ]
     },
     "execution_count": 3,
     "metadata": {},
     "output_type": "execute_result"
    }
   ],
   "source": [
    "#Recup mp3 a partir du csv\n",
    "dfcough=df['subname']\n",
    "path=os.path.abspath('virufy-data-main/clinical/segmented/modified_merged')\n",
    "X0 = df.drop(columns=['corona_test', 'cough_filename', 'subname', 'date'])\n",
    "X0.head()"
   ]
  },
  {
   "cell_type": "code",
   "execution_count": 4,
   "id": "0ece1e0b-99b2-4f3d-835f-ce526c4f3b6b",
   "metadata": {},
   "outputs": [
    {
     "name": "stderr",
     "output_type": "stream",
     "text": [
      "C:\\Users\\adrie\\anaconda3\\lib\\site-packages\\librosa\\core\\audio.py:165: UserWarning: PySoundFile failed. Trying audioread instead.\n",
      "  warnings.warn(\"PySoundFile failed. Trying audioread instead.\")\n",
      "C:\\Users\\adrie\\anaconda3\\lib\\site-packages\\librosa\\core\\audio.py:165: UserWarning: PySoundFile failed. Trying audioread instead.\n",
      "  warnings.warn(\"PySoundFile failed. Trying audioread instead.\")\n"
     ]
    }
   ],
   "source": [
    "#iterate trhough all data\n",
    "\n",
    "maxmfcc=[]\n",
    "minmfcc=[]\n",
    "meanmfcc=[]\n",
    "stdmfcc=[]\n",
    "rangemfcc=[]\n",
    "\n",
    "maxmagspec=[]\n",
    "minreg=[]\n",
    "meanmagspec=[]\n",
    "meanreg=[]\n",
    "maxfreqmagspec=[]\n",
    "maxfreqreg=[]\n",
    "maxfreqfft=[]\n",
    "\n",
    "for i in range(len(dfcough)):\n",
    "    data,sr=librosa.load(os.path.abspath(path +'/'+ dfcough[i]), res_type='kaiser_fast', duration=1, mono=True)\n",
    "    \n",
    "    data_fft=np.fft.fft(data)\n",
    "    magnitude_spectrum=np.abs(data_fft)\n",
    "    maxmagspec.append(magnitude_spectrum.max())\n",
    "    minreg.append(data.min())\n",
    "    meanmagspec.append(magnitude_spectrum.mean())\n",
    "    meanreg.append(data.mean())\n",
    " \n",
    "    maxfreqmagspec.append(np.argmax(magnitude_spectrum))\n",
    "    maxfreqreg.append(np.argmax(data))\n",
    "    maxfreqfft.append(np.argmax(data_fft))\n",
    "    \n",
    "    # calcul du mfcc moyen sur 128 tronçons\n",
    "    mfccs = np.mean(librosa.feature.mfcc(y=data, sr=sr, n_mfcc=128).T,axis=0)\n",
    "    \n",
    "    maxmfcc.append(max(mfccs))\n",
    "    minmfcc.append(min(mfccs))\n",
    "    meanmfcc.append(mfccs.mean())\n",
    "    stdmfcc.append(np.std(mfccs))\n",
    "    rangemfcc.append(max(mfccs)-min(mfccs))\n",
    "\n",
    "\n",
    "d={'maxmfcc':maxmfcc, 'minmfcc':minmfcc, 'meanmfcc':meanmfcc,'stdmfcc':stdmfcc, 'rangemfcc':rangemfcc,\n",
    "   'maxmagspec':maxmagspec,'minreg': minreg,'meanmagspec':meanmagspec,'meanreg':meanreg,'maxfreqmagspec':maxfreqmagspec,\n",
    "   'maxfreqreg':maxfreqreg,'maxfreqfft':maxfreqfft}\n",
    "\n",
    "\n"
   ]
  },
  {
   "cell_type": "code",
   "execution_count": 5,
   "id": "202c4ac0-6286-44a5-96d8-9dcb9db77726",
   "metadata": {},
   "outputs": [
    {
     "data": {
      "text/html": [
       "<div>\n",
       "<style scoped>\n",
       "    .dataframe tbody tr th:only-of-type {\n",
       "        vertical-align: middle;\n",
       "    }\n",
       "\n",
       "    .dataframe tbody tr th {\n",
       "        vertical-align: top;\n",
       "    }\n",
       "\n",
       "    .dataframe thead th {\n",
       "        text-align: right;\n",
       "    }\n",
       "</style>\n",
       "<table border=\"1\" class=\"dataframe\">\n",
       "  <thead>\n",
       "    <tr style=\"text-align: right;\">\n",
       "      <th></th>\n",
       "      <th>maxmfcc</th>\n",
       "      <th>minmfcc</th>\n",
       "      <th>meanmfcc</th>\n",
       "      <th>stdmfcc</th>\n",
       "      <th>rangemfcc</th>\n",
       "      <th>maxmagspec</th>\n",
       "      <th>minreg</th>\n",
       "      <th>meanmagspec</th>\n",
       "      <th>meanreg</th>\n",
       "      <th>maxfreqmagspec</th>\n",
       "      <th>maxfreqreg</th>\n",
       "      <th>maxfreqfft</th>\n",
       "    </tr>\n",
       "  </thead>\n",
       "  <tbody>\n",
       "    <tr>\n",
       "      <th>0</th>\n",
       "      <td>54.605576</td>\n",
       "      <td>-438.285767</td>\n",
       "      <td>-4.036503</td>\n",
       "      <td>39.253922</td>\n",
       "      <td>492.891357</td>\n",
       "      <td>106.018880</td>\n",
       "      <td>-0.585769</td>\n",
       "      <td>5.444349</td>\n",
       "      <td>0.000002</td>\n",
       "      <td>1478</td>\n",
       "      <td>424</td>\n",
       "      <td>20586</td>\n",
       "    </tr>\n",
       "    <tr>\n",
       "      <th>1</th>\n",
       "      <td>55.400497</td>\n",
       "      <td>-381.640991</td>\n",
       "      <td>-3.347221</td>\n",
       "      <td>34.285961</td>\n",
       "      <td>437.041504</td>\n",
       "      <td>139.283694</td>\n",
       "      <td>-0.679557</td>\n",
       "      <td>6.313174</td>\n",
       "      <td>0.000012</td>\n",
       "      <td>696</td>\n",
       "      <td>203</td>\n",
       "      <td>20537</td>\n",
       "    </tr>\n",
       "    <tr>\n",
       "      <th>2</th>\n",
       "      <td>61.448055</td>\n",
       "      <td>-399.955261</td>\n",
       "      <td>-3.717962</td>\n",
       "      <td>36.064163</td>\n",
       "      <td>461.403320</td>\n",
       "      <td>111.805578</td>\n",
       "      <td>-0.683689</td>\n",
       "      <td>8.104930</td>\n",
       "      <td>0.000128</td>\n",
       "      <td>1784</td>\n",
       "      <td>214</td>\n",
       "      <td>611</td>\n",
       "    </tr>\n",
       "    <tr>\n",
       "      <th>3</th>\n",
       "      <td>62.597389</td>\n",
       "      <td>-450.439728</td>\n",
       "      <td>-3.896398</td>\n",
       "      <td>40.213867</td>\n",
       "      <td>513.037109</td>\n",
       "      <td>102.664317</td>\n",
       "      <td>-0.709709</td>\n",
       "      <td>4.206902</td>\n",
       "      <td>-0.000098</td>\n",
       "      <td>330</td>\n",
       "      <td>738</td>\n",
       "      <td>21720</td>\n",
       "    </tr>\n",
       "    <tr>\n",
       "      <th>4</th>\n",
       "      <td>57.859745</td>\n",
       "      <td>-501.784760</td>\n",
       "      <td>-4.132426</td>\n",
       "      <td>44.549824</td>\n",
       "      <td>559.644531</td>\n",
       "      <td>155.310554</td>\n",
       "      <td>-0.744767</td>\n",
       "      <td>3.135501</td>\n",
       "      <td>0.000064</td>\n",
       "      <td>271</td>\n",
       "      <td>249</td>\n",
       "      <td>21780</td>\n",
       "    </tr>\n",
       "  </tbody>\n",
       "</table>\n",
       "</div>"
      ],
      "text/plain": [
       "     maxmfcc     minmfcc  meanmfcc    stdmfcc   rangemfcc  maxmagspec  \\\n",
       "0  54.605576 -438.285767 -4.036503  39.253922  492.891357  106.018880   \n",
       "1  55.400497 -381.640991 -3.347221  34.285961  437.041504  139.283694   \n",
       "2  61.448055 -399.955261 -3.717962  36.064163  461.403320  111.805578   \n",
       "3  62.597389 -450.439728 -3.896398  40.213867  513.037109  102.664317   \n",
       "4  57.859745 -501.784760 -4.132426  44.549824  559.644531  155.310554   \n",
       "\n",
       "     minreg  meanmagspec   meanreg  maxfreqmagspec  maxfreqreg  maxfreqfft  \n",
       "0 -0.585769     5.444349  0.000002            1478         424       20586  \n",
       "1 -0.679557     6.313174  0.000012             696         203       20537  \n",
       "2 -0.683689     8.104930  0.000128            1784         214         611  \n",
       "3 -0.709709     4.206902 -0.000098             330         738       21720  \n",
       "4 -0.744767     3.135501  0.000064             271         249       21780  "
      ]
     },
     "execution_count": 5,
     "metadata": {},
     "output_type": "execute_result"
    }
   ],
   "source": [
    "df2=pd.DataFrame(data=d)\n",
    "df2.head()"
   ]
  },
  {
   "cell_type": "code",
   "execution_count": 6,
   "id": "518c28b4-457a-4cd4-a04f-ab33a72f87b4",
   "metadata": {},
   "outputs": [
    {
     "data": {
      "text/html": [
       "<div>\n",
       "<style scoped>\n",
       "    .dataframe tbody tr th:only-of-type {\n",
       "        vertical-align: middle;\n",
       "    }\n",
       "\n",
       "    .dataframe tbody tr th {\n",
       "        vertical-align: top;\n",
       "    }\n",
       "\n",
       "    .dataframe thead th {\n",
       "        text-align: right;\n",
       "    }\n",
       "</style>\n",
       "<table border=\"1\" class=\"dataframe\">\n",
       "  <thead>\n",
       "    <tr style=\"text-align: right;\">\n",
       "      <th></th>\n",
       "      <th>age</th>\n",
       "      <th>gender</th>\n",
       "      <th>medical_history</th>\n",
       "      <th>smoker</th>\n",
       "      <th>patient_reported_symptoms</th>\n",
       "      <th>has_Covid19</th>\n",
       "      <th>maxmfcc</th>\n",
       "      <th>minmfcc</th>\n",
       "      <th>meanmfcc</th>\n",
       "      <th>stdmfcc</th>\n",
       "      <th>rangemfcc</th>\n",
       "      <th>maxmagspec</th>\n",
       "      <th>minreg</th>\n",
       "      <th>meanmagspec</th>\n",
       "      <th>meanreg</th>\n",
       "      <th>maxfreqmagspec</th>\n",
       "      <th>maxfreqreg</th>\n",
       "      <th>maxfreqfft</th>\n",
       "    </tr>\n",
       "  </thead>\n",
       "  <tbody>\n",
       "    <tr>\n",
       "      <th>0</th>\n",
       "      <td>24.0</td>\n",
       "      <td>female</td>\n",
       "      <td>none,</td>\n",
       "      <td>no</td>\n",
       "      <td>New or worsening cough,</td>\n",
       "      <td>0.0</td>\n",
       "      <td>54.605576</td>\n",
       "      <td>-438.285767</td>\n",
       "      <td>-4.036503</td>\n",
       "      <td>39.253922</td>\n",
       "      <td>492.891357</td>\n",
       "      <td>106.018880</td>\n",
       "      <td>-0.585769</td>\n",
       "      <td>5.444349</td>\n",
       "      <td>0.000002</td>\n",
       "      <td>1478</td>\n",
       "      <td>424</td>\n",
       "      <td>20586</td>\n",
       "    </tr>\n",
       "    <tr>\n",
       "      <th>1</th>\n",
       "      <td>24.0</td>\n",
       "      <td>female</td>\n",
       "      <td>none,</td>\n",
       "      <td>no</td>\n",
       "      <td>New or worsening cough,</td>\n",
       "      <td>0.0</td>\n",
       "      <td>55.400497</td>\n",
       "      <td>-381.640991</td>\n",
       "      <td>-3.347221</td>\n",
       "      <td>34.285961</td>\n",
       "      <td>437.041504</td>\n",
       "      <td>139.283694</td>\n",
       "      <td>-0.679557</td>\n",
       "      <td>6.313174</td>\n",
       "      <td>0.000012</td>\n",
       "      <td>696</td>\n",
       "      <td>203</td>\n",
       "      <td>20537</td>\n",
       "    </tr>\n",
       "    <tr>\n",
       "      <th>2</th>\n",
       "      <td>24.0</td>\n",
       "      <td>female</td>\n",
       "      <td>none,</td>\n",
       "      <td>no</td>\n",
       "      <td>New or worsening cough,</td>\n",
       "      <td>0.0</td>\n",
       "      <td>61.448055</td>\n",
       "      <td>-399.955261</td>\n",
       "      <td>-3.717962</td>\n",
       "      <td>36.064163</td>\n",
       "      <td>461.403320</td>\n",
       "      <td>111.805578</td>\n",
       "      <td>-0.683689</td>\n",
       "      <td>8.104930</td>\n",
       "      <td>0.000128</td>\n",
       "      <td>1784</td>\n",
       "      <td>214</td>\n",
       "      <td>611</td>\n",
       "    </tr>\n",
       "    <tr>\n",
       "      <th>3</th>\n",
       "      <td>37.0</td>\n",
       "      <td>male</td>\n",
       "      <td>none,</td>\n",
       "      <td>no</td>\n",
       "      <td>none,</td>\n",
       "      <td>0.0</td>\n",
       "      <td>62.597389</td>\n",
       "      <td>-450.439728</td>\n",
       "      <td>-3.896398</td>\n",
       "      <td>40.213867</td>\n",
       "      <td>513.037109</td>\n",
       "      <td>102.664317</td>\n",
       "      <td>-0.709709</td>\n",
       "      <td>4.206902</td>\n",
       "      <td>-0.000098</td>\n",
       "      <td>330</td>\n",
       "      <td>738</td>\n",
       "      <td>21720</td>\n",
       "    </tr>\n",
       "    <tr>\n",
       "      <th>4</th>\n",
       "      <td>37.0</td>\n",
       "      <td>male</td>\n",
       "      <td>none,</td>\n",
       "      <td>no</td>\n",
       "      <td>none,</td>\n",
       "      <td>0.0</td>\n",
       "      <td>57.859745</td>\n",
       "      <td>-501.784760</td>\n",
       "      <td>-4.132426</td>\n",
       "      <td>44.549824</td>\n",
       "      <td>559.644531</td>\n",
       "      <td>155.310554</td>\n",
       "      <td>-0.744767</td>\n",
       "      <td>3.135501</td>\n",
       "      <td>0.000064</td>\n",
       "      <td>271</td>\n",
       "      <td>249</td>\n",
       "      <td>21780</td>\n",
       "    </tr>\n",
       "  </tbody>\n",
       "</table>\n",
       "</div>"
      ],
      "text/plain": [
       "    age  gender medical_history smoker patient_reported_symptoms  has_Covid19  \\\n",
       "0  24.0  female           none,     no   New or worsening cough,          0.0   \n",
       "1  24.0  female           none,     no   New or worsening cough,          0.0   \n",
       "2  24.0  female           none,     no   New or worsening cough,          0.0   \n",
       "3  37.0    male           none,     no                     none,          0.0   \n",
       "4  37.0    male           none,     no                     none,          0.0   \n",
       "\n",
       "     maxmfcc     minmfcc  meanmfcc    stdmfcc   rangemfcc  maxmagspec  \\\n",
       "0  54.605576 -438.285767 -4.036503  39.253922  492.891357  106.018880   \n",
       "1  55.400497 -381.640991 -3.347221  34.285961  437.041504  139.283694   \n",
       "2  61.448055 -399.955261 -3.717962  36.064163  461.403320  111.805578   \n",
       "3  62.597389 -450.439728 -3.896398  40.213867  513.037109  102.664317   \n",
       "4  57.859745 -501.784760 -4.132426  44.549824  559.644531  155.310554   \n",
       "\n",
       "     minreg  meanmagspec   meanreg  maxfreqmagspec  maxfreqreg  maxfreqfft  \n",
       "0 -0.585769     5.444349  0.000002            1478         424       20586  \n",
       "1 -0.679557     6.313174  0.000012             696         203       20537  \n",
       "2 -0.683689     8.104930  0.000128            1784         214         611  \n",
       "3 -0.709709     4.206902 -0.000098             330         738       21720  \n",
       "4 -0.744767     3.135501  0.000064             271         249       21780  "
      ]
     },
     "execution_count": 6,
     "metadata": {},
     "output_type": "execute_result"
    }
   ],
   "source": [
    "X1=pd.concat([X0,df2],axis=1)\n",
    "X1=X1.drop(columns=['has_Covid19'])\n",
    "\n",
    "X2=pd.concat([X0,df2],axis=1)\n",
    "X2.head()"
   ]
  },
  {
   "cell_type": "code",
   "execution_count": 7,
   "id": "f5f612a6-abb9-4734-89d1-a174d1bed191",
   "metadata": {},
   "outputs": [
    {
     "name": "stdout",
     "output_type": "stream",
     "text": [
      "Index(['age', 'has_Covid19', 'maxmfcc', 'minmfcc', 'meanmfcc', 'stdmfcc',\n",
      "       'rangemfcc', 'maxmagspec', 'minreg', 'meanmagspec', 'meanreg',\n",
      "       'maxfreqmagspec', 'maxfreqreg', 'maxfreqfft'],\n",
      "      dtype='object')\n"
     ]
    },
    {
     "data": {
      "image/png": "[encoded data removed]",
      "text/plain": [
       "<Figure size 720x720 with 2 Axes>"
      ]
     },
     "metadata": {
      "needs_background": "light"
     },
     "output_type": "display_data"
    }
   ],
   "source": [
    "#get correlations of each features in dataset\n",
    "# pensez à inclure le label au dataset\n",
    "# il faut utiliser des valeurs numériques\n",
    "import seaborn as sns\n",
    "corrmat = X2.corr()\n",
    "top_corr_features = corrmat.index\n",
    "print(top_corr_features)\n",
    "plt.figure(figsize=(10,10))\n",
    "#plot heat map\n",
    "g=sns.heatmap(X2[top_corr_features].corr(),annot=True,cmap=\"RdYlGn\")"
   ]
  },
  {
   "cell_type": "code",
   "execution_count": 8,
   "id": "4cc52a2e-15ad-4bdf-9950-d77ef1682489",
   "metadata": {},
   "outputs": [
    {
     "data": {
      "text/html": [
       "<div>\n",
       "<style scoped>\n",
       "    .dataframe tbody tr th:only-of-type {\n",
       "        vertical-align: middle;\n",
       "    }\n",
       "\n",
       "    .dataframe tbody tr th {\n",
       "        vertical-align: top;\n",
       "    }\n",
       "\n",
       "    .dataframe thead th {\n",
       "        text-align: right;\n",
       "    }\n",
       "</style>\n",
       "<table border=\"1\" class=\"dataframe\">\n",
       "  <thead>\n",
       "    <tr style=\"text-align: right;\">\n",
       "      <th></th>\n",
       "      <th>age</th>\n",
       "      <th>gender</th>\n",
       "      <th>medical_history</th>\n",
       "      <th>smoker</th>\n",
       "      <th>patient_reported_symptoms</th>\n",
       "      <th>maxmfcc</th>\n",
       "      <th>stdmfcc</th>\n",
       "      <th>maxmagspec</th>\n",
       "      <th>minreg</th>\n",
       "      <th>meanmagspec</th>\n",
       "      <th>meanreg</th>\n",
       "      <th>maxfreqmagspec</th>\n",
       "      <th>maxfreqreg</th>\n",
       "      <th>maxfreqfft</th>\n",
       "    </tr>\n",
       "  </thead>\n",
       "  <tbody>\n",
       "    <tr>\n",
       "      <th>0</th>\n",
       "      <td>24.0</td>\n",
       "      <td>female</td>\n",
       "      <td>none,</td>\n",
       "      <td>no</td>\n",
       "      <td>New or worsening cough,</td>\n",
       "      <td>54.605576</td>\n",
       "      <td>39.253922</td>\n",
       "      <td>106.018880</td>\n",
       "      <td>-0.585769</td>\n",
       "      <td>5.444349</td>\n",
       "      <td>0.000002</td>\n",
       "      <td>1478</td>\n",
       "      <td>424</td>\n",
       "      <td>20586</td>\n",
       "    </tr>\n",
       "    <tr>\n",
       "      <th>1</th>\n",
       "      <td>24.0</td>\n",
       "      <td>female</td>\n",
       "      <td>none,</td>\n",
       "      <td>no</td>\n",
       "      <td>New or worsening cough,</td>\n",
       "      <td>55.400497</td>\n",
       "      <td>34.285961</td>\n",
       "      <td>139.283694</td>\n",
       "      <td>-0.679557</td>\n",
       "      <td>6.313174</td>\n",
       "      <td>0.000012</td>\n",
       "      <td>696</td>\n",
       "      <td>203</td>\n",
       "      <td>20537</td>\n",
       "    </tr>\n",
       "    <tr>\n",
       "      <th>2</th>\n",
       "      <td>24.0</td>\n",
       "      <td>female</td>\n",
       "      <td>none,</td>\n",
       "      <td>no</td>\n",
       "      <td>New or worsening cough,</td>\n",
       "      <td>61.448055</td>\n",
       "      <td>36.064163</td>\n",
       "      <td>111.805578</td>\n",
       "      <td>-0.683689</td>\n",
       "      <td>8.104930</td>\n",
       "      <td>0.000128</td>\n",
       "      <td>1784</td>\n",
       "      <td>214</td>\n",
       "      <td>611</td>\n",
       "    </tr>\n",
       "    <tr>\n",
       "      <th>3</th>\n",
       "      <td>37.0</td>\n",
       "      <td>male</td>\n",
       "      <td>none,</td>\n",
       "      <td>no</td>\n",
       "      <td>none,</td>\n",
       "      <td>62.597389</td>\n",
       "      <td>40.213867</td>\n",
       "      <td>102.664317</td>\n",
       "      <td>-0.709709</td>\n",
       "      <td>4.206902</td>\n",
       "      <td>-0.000098</td>\n",
       "      <td>330</td>\n",
       "      <td>738</td>\n",
       "      <td>21720</td>\n",
       "    </tr>\n",
       "    <tr>\n",
       "      <th>4</th>\n",
       "      <td>37.0</td>\n",
       "      <td>male</td>\n",
       "      <td>none,</td>\n",
       "      <td>no</td>\n",
       "      <td>none,</td>\n",
       "      <td>57.859745</td>\n",
       "      <td>44.549824</td>\n",
       "      <td>155.310554</td>\n",
       "      <td>-0.744767</td>\n",
       "      <td>3.135501</td>\n",
       "      <td>0.000064</td>\n",
       "      <td>271</td>\n",
       "      <td>249</td>\n",
       "      <td>21780</td>\n",
       "    </tr>\n",
       "  </tbody>\n",
       "</table>\n",
       "</div>"
      ],
      "text/plain": [
       "    age  gender medical_history smoker patient_reported_symptoms    maxmfcc  \\\n",
       "0  24.0  female           none,     no   New or worsening cough,  54.605576   \n",
       "1  24.0  female           none,     no   New or worsening cough,  55.400497   \n",
       "2  24.0  female           none,     no   New or worsening cough,  61.448055   \n",
       "3  37.0    male           none,     no                     none,  62.597389   \n",
       "4  37.0    male           none,     no                     none,  57.859745   \n",
       "\n",
       "     stdmfcc  maxmagspec    minreg  meanmagspec   meanreg  maxfreqmagspec  \\\n",
       "0  39.253922  106.018880 -0.585769     5.444349  0.000002            1478   \n",
       "1  34.285961  139.283694 -0.679557     6.313174  0.000012             696   \n",
       "2  36.064163  111.805578 -0.683689     8.104930  0.000128            1784   \n",
       "3  40.213867  102.664317 -0.709709     4.206902 -0.000098             330   \n",
       "4  44.549824  155.310554 -0.744767     3.135501  0.000064             271   \n",
       "\n",
       "   maxfreqreg  maxfreqfft  \n",
       "0         424       20586  \n",
       "1         203       20537  \n",
       "2         214         611  \n",
       "3         738       21720  \n",
       "4         249       21780  "
      ]
     },
     "execution_count": 8,
     "metadata": {},
     "output_type": "execute_result"
    }
   ],
   "source": [
    "# X getting rid of useless parameters higly correlated to each others\n",
    "X=X1.drop(columns=['minmfcc', 'meanmfcc','rangemfcc'])\n",
    "X.head()"
   ]
  },
  {
   "cell_type": "code",
   "execution_count": 9,
   "id": "1569c1f0-645f-49d3-a224-e82353409432",
   "metadata": {},
   "outputs": [
    {
     "data": {
      "text/html": [
       "<div>\n",
       "<style scoped>\n",
       "    .dataframe tbody tr th:only-of-type {\n",
       "        vertical-align: middle;\n",
       "    }\n",
       "\n",
       "    .dataframe tbody tr th {\n",
       "        vertical-align: top;\n",
       "    }\n",
       "\n",
       "    .dataframe thead th {\n",
       "        text-align: right;\n",
       "    }\n",
       "</style>\n",
       "<table border=\"1\" class=\"dataframe\">\n",
       "  <thead>\n",
       "    <tr style=\"text-align: right;\">\n",
       "      <th></th>\n",
       "      <th>age</th>\n",
       "      <th>gender</th>\n",
       "      <th>medical_history</th>\n",
       "      <th>smoker</th>\n",
       "      <th>patient_reported_symptoms</th>\n",
       "      <th>maxmfcc</th>\n",
       "      <th>stdmfcc</th>\n",
       "      <th>maxmagspec</th>\n",
       "      <th>minreg</th>\n",
       "      <th>meanmagspec</th>\n",
       "      <th>meanreg</th>\n",
       "      <th>maxfreqmagspec</th>\n",
       "      <th>maxfreqreg</th>\n",
       "      <th>maxfreqfft</th>\n",
       "    </tr>\n",
       "  </thead>\n",
       "  <tbody>\n",
       "    <tr>\n",
       "      <th>0</th>\n",
       "      <td>24.0</td>\n",
       "      <td>0</td>\n",
       "      <td>none,</td>\n",
       "      <td>0</td>\n",
       "      <td>New or worsening cough,</td>\n",
       "      <td>54.605576</td>\n",
       "      <td>39.253922</td>\n",
       "      <td>106.018880</td>\n",
       "      <td>-0.585769</td>\n",
       "      <td>5.444349</td>\n",
       "      <td>0.000002</td>\n",
       "      <td>1478</td>\n",
       "      <td>424</td>\n",
       "      <td>20586</td>\n",
       "    </tr>\n",
       "    <tr>\n",
       "      <th>1</th>\n",
       "      <td>24.0</td>\n",
       "      <td>0</td>\n",
       "      <td>none,</td>\n",
       "      <td>0</td>\n",
       "      <td>New or worsening cough,</td>\n",
       "      <td>55.400497</td>\n",
       "      <td>34.285961</td>\n",
       "      <td>139.283694</td>\n",
       "      <td>-0.679557</td>\n",
       "      <td>6.313174</td>\n",
       "      <td>0.000012</td>\n",
       "      <td>696</td>\n",
       "      <td>203</td>\n",
       "      <td>20537</td>\n",
       "    </tr>\n",
       "    <tr>\n",
       "      <th>2</th>\n",
       "      <td>24.0</td>\n",
       "      <td>0</td>\n",
       "      <td>none,</td>\n",
       "      <td>0</td>\n",
       "      <td>New or worsening cough,</td>\n",
       "      <td>61.448055</td>\n",
       "      <td>36.064163</td>\n",
       "      <td>111.805578</td>\n",
       "      <td>-0.683689</td>\n",
       "      <td>8.104930</td>\n",
       "      <td>0.000128</td>\n",
       "      <td>1784</td>\n",
       "      <td>214</td>\n",
       "      <td>611</td>\n",
       "    </tr>\n",
       "    <tr>\n",
       "      <th>3</th>\n",
       "      <td>37.0</td>\n",
       "      <td>1</td>\n",
       "      <td>none,</td>\n",
       "      <td>0</td>\n",
       "      <td>none,</td>\n",
       "      <td>62.597389</td>\n",
       "      <td>40.213867</td>\n",
       "      <td>102.664317</td>\n",
       "      <td>-0.709709</td>\n",
       "      <td>4.206902</td>\n",
       "      <td>-0.000098</td>\n",
       "      <td>330</td>\n",
       "      <td>738</td>\n",
       "      <td>21720</td>\n",
       "    </tr>\n",
       "    <tr>\n",
       "      <th>4</th>\n",
       "      <td>37.0</td>\n",
       "      <td>1</td>\n",
       "      <td>none,</td>\n",
       "      <td>0</td>\n",
       "      <td>none,</td>\n",
       "      <td>57.859745</td>\n",
       "      <td>44.549824</td>\n",
       "      <td>155.310554</td>\n",
       "      <td>-0.744767</td>\n",
       "      <td>3.135501</td>\n",
       "      <td>0.000064</td>\n",
       "      <td>271</td>\n",
       "      <td>249</td>\n",
       "      <td>21780</td>\n",
       "    </tr>\n",
       "  </tbody>\n",
       "</table>\n",
       "</div>"
      ],
      "text/plain": [
       "    age  gender medical_history  smoker patient_reported_symptoms    maxmfcc  \\\n",
       "0  24.0       0           none,       0   New or worsening cough,  54.605576   \n",
       "1  24.0       0           none,       0   New or worsening cough,  55.400497   \n",
       "2  24.0       0           none,       0   New or worsening cough,  61.448055   \n",
       "3  37.0       1           none,       0                     none,  62.597389   \n",
       "4  37.0       1           none,       0                     none,  57.859745   \n",
       "\n",
       "     stdmfcc  maxmagspec    minreg  meanmagspec   meanreg  maxfreqmagspec  \\\n",
       "0  39.253922  106.018880 -0.585769     5.444349  0.000002            1478   \n",
       "1  34.285961  139.283694 -0.679557     6.313174  0.000012             696   \n",
       "2  36.064163  111.805578 -0.683689     8.104930  0.000128            1784   \n",
       "3  40.213867  102.664317 -0.709709     4.206902 -0.000098             330   \n",
       "4  44.549824  155.310554 -0.744767     3.135501  0.000064             271   \n",
       "\n",
       "   maxfreqreg  maxfreqfft  \n",
       "0         424       20586  \n",
       "1         203       20537  \n",
       "2         214         611  \n",
       "3         738       21720  \n",
       "4         249       21780  "
      ]
     },
     "execution_count": 9,
     "metadata": {},
     "output_type": "execute_result"
    }
   ],
   "source": [
    "#transform categorical in numerical params\n",
    "from sklearn import preprocessing\n",
    "\n",
    "le = preprocessing.LabelEncoder()\n",
    "X['gender'] = le.fit_transform(X['gender'])\n",
    "X['smoker'] = le.fit_transform(X['smoker'])\n",
    "\n",
    "X.head()"
   ]
  },
  {
   "cell_type": "code",
   "execution_count": 10,
   "id": "a8a5c530-31ad-4651-8257-b75343202eda",
   "metadata": {},
   "outputs": [
    {
     "name": "stderr",
     "output_type": "stream",
     "text": [
      "<ipython-input-10-1c681feb548c>:16: SettingWithCopyWarning: \n",
      "A value is trying to be set on a copy of a slice from a DataFrame\n",
      "\n",
      "See the caveats in the documentation: https://pandas.pydata.org/pandas-docs/stable/user_guide/indexing.html#returning-a-view-versus-a-copy\n",
      "  X['medical_history'][i]=0\n",
      "<ipython-input-10-1c681feb548c>:10: SettingWithCopyWarning: \n",
      "A value is trying to be set on a copy of a slice from a DataFrame\n",
      "\n",
      "See the caveats in the documentation: https://pandas.pydata.org/pandas-docs/stable/user_guide/indexing.html#returning-a-view-versus-a-copy\n",
      "  X['medical_history'][i]=1\n",
      "<ipython-input-10-1c681feb548c>:12: SettingWithCopyWarning: \n",
      "A value is trying to be set on a copy of a slice from a DataFrame\n",
      "\n",
      "See the caveats in the documentation: https://pandas.pydata.org/pandas-docs/stable/user_guide/indexing.html#returning-a-view-versus-a-copy\n",
      "  X['medical_history'][i]=2\n",
      "<ipython-input-10-1c681feb548c>:14: SettingWithCopyWarning: \n",
      "A value is trying to be set on a copy of a slice from a DataFrame\n",
      "\n",
      "See the caveats in the documentation: https://pandas.pydata.org/pandas-docs/stable/user_guide/indexing.html#returning-a-view-versus-a-copy\n",
      "  X['medical_history'][i]=3\n"
     ]
    }
   ],
   "source": [
    "#replace medical history's categorical values by numeric ones\n",
    "'''\n",
    "none=0\n",
    "Diabetes with complications=1\n",
    "Asthma or chronic lung disease=2\n",
    "Congestive heart failure=3\n",
    "'''\n",
    "for i in range(len(X['medical_history'])):\n",
    "    if X['medical_history'][i] in 'Diabetes with complications,':\n",
    "        X['medical_history'][i]=1\n",
    "    elif X['medical_history'][i] in 'Asthma or chronic lung disease,':\n",
    "        X['medical_history'][i]=2\n",
    "    elif X['medical_history'][i] in 'Congestive heart failure,':\n",
    "        X['medical_history'][i]=3\n",
    "    else:\n",
    "        X['medical_history'][i]=0"
   ]
  },
  {
   "cell_type": "code",
   "execution_count": 11,
   "id": "8771b6a4-538c-48ed-8a67-359436785538",
   "metadata": {},
   "outputs": [
    {
     "name": "stderr",
     "output_type": "stream",
     "text": [
      "<ipython-input-11-74f5a0b1cb05>:15: SettingWithCopyWarning: \n",
      "A value is trying to be set on a copy of a slice from a DataFrame\n",
      "\n",
      "See the caveats in the documentation: https://pandas.pydata.org/pandas-docs/stable/user_guide/indexing.html#returning-a-view-versus-a-copy\n",
      "  X['patient_reported_symptoms'][i]=1\n",
      "<ipython-input-11-74f5a0b1cb05>:31: SettingWithCopyWarning: \n",
      "A value is trying to be set on a copy of a slice from a DataFrame\n",
      "\n",
      "See the caveats in the documentation: https://pandas.pydata.org/pandas-docs/stable/user_guide/indexing.html#returning-a-view-versus-a-copy\n",
      "  X['patient_reported_symptoms'][i]=0\n",
      "<ipython-input-11-74f5a0b1cb05>:27: SettingWithCopyWarning: \n",
      "A value is trying to be set on a copy of a slice from a DataFrame\n",
      "\n",
      "See the caveats in the documentation: https://pandas.pydata.org/pandas-docs/stable/user_guide/indexing.html#returning-a-view-versus-a-copy\n",
      "  X['patient_reported_symptoms'][i]=7\n",
      "<ipython-input-11-74f5a0b1cb05>:29: SettingWithCopyWarning: \n",
      "A value is trying to be set on a copy of a slice from a DataFrame\n",
      "\n",
      "See the caveats in the documentation: https://pandas.pydata.org/pandas-docs/stable/user_guide/indexing.html#returning-a-view-versus-a-copy\n",
      "  X['patient_reported_symptoms'][i]=8\n",
      "<ipython-input-11-74f5a0b1cb05>:25: SettingWithCopyWarning: \n",
      "A value is trying to be set on a copy of a slice from a DataFrame\n",
      "\n",
      "See the caveats in the documentation: https://pandas.pydata.org/pandas-docs/stable/user_guide/indexing.html#returning-a-view-versus-a-copy\n",
      "  X['patient_reported_symptoms'][i]=6\n",
      "<ipython-input-11-74f5a0b1cb05>:17: SettingWithCopyWarning: \n",
      "A value is trying to be set on a copy of a slice from a DataFrame\n",
      "\n",
      "See the caveats in the documentation: https://pandas.pydata.org/pandas-docs/stable/user_guide/indexing.html#returning-a-view-versus-a-copy\n",
      "  X['patient_reported_symptoms'][i]=2\n",
      "<ipython-input-11-74f5a0b1cb05>:19: SettingWithCopyWarning: \n",
      "A value is trying to be set on a copy of a slice from a DataFrame\n",
      "\n",
      "See the caveats in the documentation: https://pandas.pydata.org/pandas-docs/stable/user_guide/indexing.html#returning-a-view-versus-a-copy\n",
      "  X['patient_reported_symptoms'][i]=3\n"
     ]
    }
   ],
   "source": [
    "#replace patient_reported_symptoms' categorical values by numeric ones\n",
    "'''\n",
    "none,=0\n",
    "New or worsening cough,=1\n",
    "Sore throat,=2\n",
    "Shortness of breath,=3\n",
    "Shortness of breath, Sore throat, Body aches,=4\n",
    "Shortness of breath, New or worsening cough,=5\n",
    "Sore throat,Loss of taste,Loss of smell,=6\n",
    "Fever, chills, or sweating,New or worsening cough,Sore throat,=7\n",
    "Fever, chills, or sweating,Shortness of breath,New or worsening cough,Sore throat,Loss of taste,Loss of smell,=8\n",
    "'''\n",
    "for i in range(len(X['medical_history'])):\n",
    "    if X['patient_reported_symptoms'][i] == 'New or worsening cough,':\n",
    "        X['patient_reported_symptoms'][i]=1\n",
    "    elif X['patient_reported_symptoms'][i] == 'Sore throat,':\n",
    "        X['patient_reported_symptoms'][i]=2\n",
    "    elif X['patient_reported_symptoms'][i] == 'Shortness of breath,':\n",
    "        X['patient_reported_symptoms'][i]=3\n",
    "    elif X['patient_reported_symptoms'][i] == 'Shortness of breath, Sore throat, Body aches,':\n",
    "        X['patient_reported_symptoms'][i]=4\n",
    "    elif X['patient_reported_symptoms'][i] == 'Shortness of breath, New or worsening cough,':\n",
    "        X['patient_reported_symptoms'][i]=5\n",
    "    elif X['patient_reported_symptoms'][i] == 'Sore throat,Loss of taste,Loss of smell,':\n",
    "        X['patient_reported_symptoms'][i]=6\n",
    "    elif X['patient_reported_symptoms'][i] == 'Fever, chills, or sweating,New or worsening cough,Sore throat,':\n",
    "        X['patient_reported_symptoms'][i]=7\n",
    "    elif X['patient_reported_symptoms'][i] == 'Fever, chills, or sweating,Shortness of breath,New or worsening cough,Sore throat,Loss of taste,Loss of smell,':\n",
    "        X['patient_reported_symptoms'][i]=8\n",
    "    else:\n",
    "        X['patient_reported_symptoms'][i]=0"
   ]
  },
  {
   "cell_type": "code",
   "execution_count": 12,
   "id": "950f0fd6-fa88-4bc4-ad95-48f3df9d604a",
   "metadata": {},
   "outputs": [
    {
     "data": {
      "text/html": [
       "<div>\n",
       "<style scoped>\n",
       "    .dataframe tbody tr th:only-of-type {\n",
       "        vertical-align: middle;\n",
       "    }\n",
       "\n",
       "    .dataframe tbody tr th {\n",
       "        vertical-align: top;\n",
       "    }\n",
       "\n",
       "    .dataframe thead th {\n",
       "        text-align: right;\n",
       "    }\n",
       "</style>\n",
       "<table border=\"1\" class=\"dataframe\">\n",
       "  <thead>\n",
       "    <tr style=\"text-align: right;\">\n",
       "      <th></th>\n",
       "      <th>age</th>\n",
       "      <th>gender</th>\n",
       "      <th>smoker</th>\n",
       "      <th>maxmfcc</th>\n",
       "      <th>stdmfcc</th>\n",
       "      <th>maxmagspec</th>\n",
       "      <th>minreg</th>\n",
       "      <th>meanmagspec</th>\n",
       "      <th>meanreg</th>\n",
       "      <th>maxfreqmagspec</th>\n",
       "      <th>maxfreqreg</th>\n",
       "      <th>maxfreqfft</th>\n",
       "    </tr>\n",
       "  </thead>\n",
       "  <tbody>\n",
       "    <tr>\n",
       "      <th>count</th>\n",
       "      <td>282.000000</td>\n",
       "      <td>282.000000</td>\n",
       "      <td>282.000000</td>\n",
       "      <td>282.000000</td>\n",
       "      <td>282.000000</td>\n",
       "      <td>282.000000</td>\n",
       "      <td>282.000000</td>\n",
       "      <td>282.000000</td>\n",
       "      <td>282.000000</td>\n",
       "      <td>282.000000</td>\n",
       "      <td>282.000000</td>\n",
       "      <td>282.000000</td>\n",
       "    </tr>\n",
       "    <tr>\n",
       "      <th>mean</th>\n",
       "      <td>48.234043</td>\n",
       "      <td>0.726950</td>\n",
       "      <td>0.308511</td>\n",
       "      <td>95.134759</td>\n",
       "      <td>24.506195</td>\n",
       "      <td>498.642333</td>\n",
       "      <td>-0.882874</td>\n",
       "      <td>16.800306</td>\n",
       "      <td>0.000172</td>\n",
       "      <td>4117.297872</td>\n",
       "      <td>3316.514184</td>\n",
       "      <td>9728.833333</td>\n",
       "    </tr>\n",
       "    <tr>\n",
       "      <th>std</th>\n",
       "      <td>13.264695</td>\n",
       "      <td>0.446318</td>\n",
       "      <td>0.462700</td>\n",
       "      <td>31.735976</td>\n",
       "      <td>9.663539</td>\n",
       "      <td>466.314237</td>\n",
       "      <td>0.243280</td>\n",
       "      <td>15.950585</td>\n",
       "      <td>0.003999</td>\n",
       "      <td>7377.562307</td>\n",
       "      <td>3388.254867</td>\n",
       "      <td>9523.019256</td>\n",
       "    </tr>\n",
       "    <tr>\n",
       "      <th>min</th>\n",
       "      <td>17.000000</td>\n",
       "      <td>0.000000</td>\n",
       "      <td>0.000000</td>\n",
       "      <td>33.536617</td>\n",
       "      <td>7.708642</td>\n",
       "      <td>64.399178</td>\n",
       "      <td>-1.505321</td>\n",
       "      <td>1.444179</td>\n",
       "      <td>-0.016149</td>\n",
       "      <td>57.000000</td>\n",
       "      <td>1.000000</td>\n",
       "      <td>70.000000</td>\n",
       "    </tr>\n",
       "    <tr>\n",
       "      <th>25%</th>\n",
       "      <td>40.000000</td>\n",
       "      <td>0.000000</td>\n",
       "      <td>0.000000</td>\n",
       "      <td>67.076260</td>\n",
       "      <td>16.080079</td>\n",
       "      <td>191.751261</td>\n",
       "      <td>-1.054151</td>\n",
       "      <td>5.458705</td>\n",
       "      <td>-0.000274</td>\n",
       "      <td>220.000000</td>\n",
       "      <td>365.000000</td>\n",
       "      <td>268.250000</td>\n",
       "    </tr>\n",
       "    <tr>\n",
       "      <th>50%</th>\n",
       "      <td>53.000000</td>\n",
       "      <td>1.000000</td>\n",
       "      <td>0.000000</td>\n",
       "      <td>92.676556</td>\n",
       "      <td>21.454546</td>\n",
       "      <td>295.722924</td>\n",
       "      <td>-0.792790</td>\n",
       "      <td>8.553219</td>\n",
       "      <td>-0.000032</td>\n",
       "      <td>327.000000</td>\n",
       "      <td>2017.000000</td>\n",
       "      <td>9837.000000</td>\n",
       "    </tr>\n",
       "    <tr>\n",
       "      <th>75%</th>\n",
       "      <td>53.000000</td>\n",
       "      <td>1.000000</td>\n",
       "      <td>1.000000</td>\n",
       "      <td>118.957033</td>\n",
       "      <td>34.059418</td>\n",
       "      <td>771.388772</td>\n",
       "      <td>-0.692299</td>\n",
       "      <td>24.601544</td>\n",
       "      <td>0.000129</td>\n",
       "      <td>1419.500000</td>\n",
       "      <td>5556.500000</td>\n",
       "      <td>21562.250000</td>\n",
       "    </tr>\n",
       "    <tr>\n",
       "      <th>max</th>\n",
       "      <td>66.000000</td>\n",
       "      <td>1.000000</td>\n",
       "      <td>1.000000</td>\n",
       "      <td>166.447388</td>\n",
       "      <td>44.549824</td>\n",
       "      <td>3117.532879</td>\n",
       "      <td>-0.209591</td>\n",
       "      <td>64.062827</td>\n",
       "      <td>0.023085</td>\n",
       "      <td>21821.000000</td>\n",
       "      <td>18516.000000</td>\n",
       "      <td>21837.000000</td>\n",
       "    </tr>\n",
       "  </tbody>\n",
       "</table>\n",
       "</div>"
      ],
      "text/plain": [
       "              age      gender      smoker     maxmfcc     stdmfcc  \\\n",
       "count  282.000000  282.000000  282.000000  282.000000  282.000000   \n",
       "mean    48.234043    0.726950    0.308511   95.134759   24.506195   \n",
       "std     13.264695    0.446318    0.462700   31.735976    9.663539   \n",
       "min     17.000000    0.000000    0.000000   33.536617    7.708642   \n",
       "25%     40.000000    0.000000    0.000000   67.076260   16.080079   \n",
       "50%     53.000000    1.000000    0.000000   92.676556   21.454546   \n",
       "75%     53.000000    1.000000    1.000000  118.957033   34.059418   \n",
       "max     66.000000    1.000000    1.000000  166.447388   44.549824   \n",
       "\n",
       "        maxmagspec      minreg  meanmagspec     meanreg  maxfreqmagspec  \\\n",
       "count   282.000000  282.000000   282.000000  282.000000      282.000000   \n",
       "mean    498.642333   -0.882874    16.800306    0.000172     4117.297872   \n",
       "std     466.314237    0.243280    15.950585    0.003999     7377.562307   \n",
       "min      64.399178   -1.505321     1.444179   -0.016149       57.000000   \n",
       "25%     191.751261   -1.054151     5.458705   -0.000274      220.000000   \n",
       "50%     295.722924   -0.792790     8.553219   -0.000032      327.000000   \n",
       "75%     771.388772   -0.692299    24.601544    0.000129     1419.500000   \n",
       "max    3117.532879   -0.209591    64.062827    0.023085    21821.000000   \n",
       "\n",
       "         maxfreqreg    maxfreqfft  \n",
       "count    282.000000    282.000000  \n",
       "mean    3316.514184   9728.833333  \n",
       "std     3388.254867   9523.019256  \n",
       "min        1.000000     70.000000  \n",
       "25%      365.000000    268.250000  \n",
       "50%     2017.000000   9837.000000  \n",
       "75%     5556.500000  21562.250000  \n",
       "max    18516.000000  21837.000000  "
      ]
     },
     "execution_count": 12,
     "metadata": {},
     "output_type": "execute_result"
    }
   ],
   "source": [
    "X.describe()"
   ]
  },
  {
   "cell_type": "code",
   "execution_count": 13,
   "id": "9665a8a8-eb85-4f76-afbd-82772acda70a",
   "metadata": {},
   "outputs": [],
   "source": [
    "#scaling params having negative values (meanreg, minreg) to use SelectKBest \n",
    "from sklearn.preprocessing import MinMaxScaler\n",
    "scaler = min_max_scaler = MinMaxScaler()\n",
    "\n",
    "X[[\"meanreg\", \"minreg\"]] = min_max_scaler.fit_transform(X[[\"meanreg\", \"minreg\"]])"
   ]
  },
  {
   "cell_type": "code",
   "execution_count": 16,
   "id": "0ef1b99f-a226-44f0-85e4-20ce644324cd",
   "metadata": {},
   "outputs": [
    {
     "name": "stdout",
     "output_type": "stream",
     "text": [
      "                        Specs         Score\n",
      "11             maxfreqmagspec  36111.315037\n",
      "13                 maxfreqfft  19798.384858\n",
      "12                 maxfreqreg   3994.150578\n",
      "7                  maxmagspec   2525.063829\n",
      "4   patient_reported_symptoms    286.752161\n",
      "2             medical_history    156.461491\n",
      "3                      smoker     89.503597\n",
      "5                     maxmfcc     66.110739\n",
      "6                     stdmfcc     39.798276\n",
      "9                 meanmagspec     23.023928\n",
      "0                         age      1.184828\n",
      "1                      gender      0.943736\n",
      "8                      minreg      0.805246\n",
      "10                    meanreg      0.160775\n"
     ]
    }
   ],
   "source": [
    "from sklearn.feature_selection import SelectKBest\n",
    "from sklearn.feature_selection import chi2\n",
    "# on va rechercher les paramètres les plus importants via la méthode SelectKBest\n",
    "\n",
    "y = df['has_Covid19']\n",
    "#apply SelectKBest class to extract top 10 best features\n",
    "bestfeatures = SelectKBest(score_func=chi2, k=\"all\")\n",
    "\n",
    "fit = bestfeatures.fit(X,y)\n",
    "dfscores = pd.DataFrame(fit.scores_)\n",
    "dfcolumns = pd.DataFrame(X.columns)\n",
    "#concat two dataframes for better visualization \n",
    "featureScores = pd.concat([dfcolumns,dfscores],axis=1)\n",
    "featureScores.columns = ['Specs','Score']  #naming the dataframe columns\n",
    "print(featureScores.nlargest(14,'Score'))  #print features sorted by best first"
   ]
  },
  {
   "cell_type": "code",
   "execution_count": 17,
   "id": "a820f9e0-b1bd-4097-8c72-4ddfbab5da84",
   "metadata": {},
   "outputs": [],
   "source": [
    "# X getting rid of non significant params in X\n",
    "X_bestK=X.drop(columns=['minreg', 'meanreg','gender','age'])"
   ]
  },
  {
   "cell_type": "code",
   "execution_count": 18,
   "id": "618e9482-473e-48da-a59c-25dadd06eb70",
   "metadata": {},
   "outputs": [],
   "source": [
    "# using PCA to reduce dimensions down to 5\n",
    "#result is not so good so we won't use it\n",
    "from sklearn.decomposition import PCA\n",
    "\n",
    "pca = PCA(n_components=5)\n",
    "data_pca = pca.fit_transform(X)\n",
    "\n",
    "# Turn to DataFrame\n",
    "Xpca = pd.DataFrame(data_pca,columns=['PC1','PC2','PC3','PC4','PC5'])"
   ]
  },
  {
   "cell_type": "code",
   "execution_count": 20,
   "id": "4fb68361-d2ee-4f95-baca-31fc7f58b20d",
   "metadata": {},
   "outputs": [],
   "source": [
    "#split train/test sets\n",
    "from sklearn.model_selection import train_test_split\n",
    "\n",
    "x_train,x_test,y_train,y_test=train_test_split(X_bestK,y,test_size=0.2,random_state=78) #test=20% of total data"
   ]
  },
  {
   "cell_type": "code",
   "execution_count": 21,
   "id": "01a1ba96-8d56-4b3d-b896-c9f171224583",
   "metadata": {},
   "outputs": [
    {
     "name": "stdout",
     "output_type": "stream",
     "text": [
      "0.6977777777777778\n",
      "0.5263157894736842\n"
     ]
    }
   ],
   "source": [
    "#Model SVC\n",
    "from sklearn import svm\n",
    "\n",
    "modelsvm=svm.NuSVC()\n",
    "modelsvm.fit(x_train,y_train)\n",
    "y_pred=modelsvm.predict(x_test)\n",
    "print(modelsvm.score(x_train,y_train))\n",
    "print(modelsvm.score(x_test,y_test))"
   ]
  },
  {
   "cell_type": "code",
   "execution_count": 22,
   "id": "8c2a613d-e6d2-45f2-84d7-cedf9a431024",
   "metadata": {},
   "outputs": [
    {
     "name": "stdout",
     "output_type": "stream",
     "text": [
      "[0.56521739 0.60869565 0.60869565 0.56521739 0.60869565 0.63636364\n",
      " 0.59090909 0.90909091 0.40909091 0.54545455]\n",
      "0.6047430830039525\n"
     ]
    }
   ],
   "source": [
    "#Model SVC crossval\n",
    "from sklearn.model_selection import cross_val_score\n",
    "\n",
    "SVC_cvs = cross_val_score(modelsvm, x_train, y_train, cv=10, scoring='accuracy').mean()\n",
    "print(cross_val_score(modelsvm, x_train, y_train, cv=10, scoring='accuracy'))\n",
    "print(SVC_cvs)"
   ]
  },
  {
   "cell_type": "code",
   "execution_count": 23,
   "id": "5a44cff5-8cbd-45fe-b51e-af1687ab7b2e",
   "metadata": {},
   "outputs": [
    {
     "name": "stdout",
     "output_type": "stream",
     "text": [
      "0.76\n",
      "0.6140350877192983\n"
     ]
    }
   ],
   "source": [
    "#Model Knn Classifier\n",
    "from sklearn.neighbors import KNeighborsClassifier\n",
    "\n",
    "modelknn=KNeighborsClassifier(n_neighbors=7, metric='euclidean')\n",
    "modelknn.fit(x_train,y_train)\n",
    "y_predknn=modelknn.predict(x_test)\n",
    "print(modelknn.score(x_train,y_train))\n",
    "print(modelknn.score(x_test,y_test))"
   ]
  },
  {
   "cell_type": "code",
   "execution_count": 24,
   "id": "5f9734ef-a6c5-4bf6-9874-d0b0dc95b594",
   "metadata": {},
   "outputs": [
    {
     "name": "stdout",
     "output_type": "stream",
     "text": [
      "[0.65217391 0.56521739 0.82608696 0.73913043 0.52173913 0.72727273\n",
      " 0.63636364 0.72727273 0.63636364 0.68181818]\n",
      "0.6713438735177866\n"
     ]
    },
    {
     "name": "stderr",
     "output_type": "stream",
     "text": [
      "C:\\Users\\adrie\\anaconda3\\lib\\site-packages\\sklearn\\utils\\validation.py:70: FutureWarning: Pass param_name=n_neighbors, param_range=[ 1  2  3  4  5  6  7  8  9 10 11 12 13 14 15 16 17 18 19] as keyword args. From version 1.0 (renaming of 0.25) passing these as positional arguments will result in an error\n",
      "  warnings.warn(f\"Pass {args_msg} as keyword args. From version \"\n"
     ]
    },
    {
     "data": {
      "text/plain": [
       "<matplotlib.legend.Legend at 0x247a7be7d00>"
      ]
     },
     "execution_count": 24,
     "metadata": {},
     "output_type": "execute_result"
    },
    {
     "data": {
      "image/png": "[encoded data removed]",
      "text/plain": [
       "<Figure size 432x288 with 1 Axes>"
      ]
     },
     "metadata": {
      "needs_background": "light"
     },
     "output_type": "display_data"
    }
   ],
   "source": [
    "#Model KNN crossval\n",
    "from sklearn.model_selection import cross_val_score\n",
    "KNN_cvs = cross_val_score(KNeighborsClassifier(), x_train, y_train, cv=10, scoring='accuracy').mean()\n",
    "print(cross_val_score(KNeighborsClassifier(), x_train, y_train, cv=10, scoring='accuracy'))\n",
    "print(KNN_cvs)\n",
    "\n",
    "#validation curve\n",
    "from sklearn.model_selection import validation_curve\n",
    "k = np.arange(1, 20)\n",
    "train_score, val_score = validation_curve(KNeighborsClassifier(metric='euclidean'), x_train, y_train, 'n_neighbors', k, cv=10)\n",
    "\n",
    "#visualize the best k for n_neighbors\n",
    "plt.plot(k,val_score.mean(axis=1), label='validation')\n",
    "plt.plot(k,train_score.mean(axis=1), label='train')\n",
    "plt.ylabel('score')\n",
    "plt.xlabel('n_neighbors')\n",
    "plt.legend()"
   ]
  },
  {
   "cell_type": "code",
   "execution_count": 25,
   "id": "aecd57f1-6fa5-423b-ae1c-ae5756ac3f07",
   "metadata": {},
   "outputs": [
    {
     "name": "stdout",
     "output_type": "stream",
     "text": [
      "0.6713438735177866\n",
      "{'metric': 'euclidean', 'n_neighbors': 5}\n"
     ]
    },
    {
     "data": {
      "text/plain": [
       "0.6842105263157895"
      ]
     },
     "execution_count": 25,
     "metadata": {},
     "output_type": "execute_result"
    }
   ],
   "source": [
    "#gridSearchCV permet de rechercher les meilleurs hyperparamètres pour notre modèle\n",
    "from sklearn.model_selection import GridSearchCV\n",
    "param_grid = {'n_neighbors': np.arange(1,20),'metric':['euclidean', 'manhattan']}\n",
    "grid = GridSearchCV(KNeighborsClassifier(), param_grid, cv=10)\n",
    "grid.fit(x_train, y_train)\n",
    "print(grid.best_score_) # meilleur score sur les données de validation\n",
    "print(grid.best_params_) # meilleurs paramètres\n",
    "modelknngrid = grid.best_estimator_ #attribuer le modèle et ses meilleurs hyperparamètres à une variable\n",
    "modelknngrid.score(x_test,y_test) # essai avec les données de test"
   ]
  },
  {
   "cell_type": "code",
   "execution_count": 26,
   "id": "01605250-0f9a-4b71-9d66-cf1388451953",
   "metadata": {},
   "outputs": [
    {
     "data": {
      "image/png": "[encoded data removed]",
      "text/plain": [
       "<Figure size 432x288 with 2 Axes>"
      ]
     },
     "metadata": {
      "needs_background": "light"
     },
     "output_type": "display_data"
    }
   ],
   "source": [
    "#show confusion matrix for testset\n",
    "# indépendamment du score, les erreurs de diagnostics du type false negative sont particulièrement mauvaises\n",
    "from sklearn.metrics import plot_confusion_matrix\n",
    "plot_confusion_matrix(modelknngrid, x_test, y_test)  \n",
    "plt.show() "
   ]
  },
  {
   "cell_type": "code",
   "execution_count": 27,
   "id": "69bf907d-117c-4d7f-9a57-0975ae233d1b",
   "metadata": {},
   "outputs": [
    {
     "name": "stdout",
     "output_type": "stream",
     "text": [
      "[ 40  80 121 161 202]\n"
     ]
    },
    {
     "data": {
      "text/plain": [
       "<matplotlib.legend.Legend at 0x247a80bf700>"
      ]
     },
     "execution_count": 27,
     "metadata": {},
     "output_type": "execute_result"
    },
    {
     "data": {
      "image/png": "[encoded data removed]",
      "text/plain": [
       "<Figure size 432x288 with 1 Axes>"
      ]
     },
     "metadata": {
      "needs_background": "light"
     },
     "output_type": "display_data"
    }
   ],
   "source": [
    "# le learning rate va nous permettre de voir s'il serait intéressant de récolter plus de données\n",
    "# si nos courbes tendent vers une valeur fixe alors c'est le cas\n",
    "#ici la courbe continue d'augmenter, + de données donnerait alors un modèle plus performant\n",
    "\n",
    "from sklearn.model_selection import learning_curve\n",
    "\n",
    "N, train_score_lc, val_score_lc = learning_curve(modelknngrid, x_train, y_train, train_sizes=np.linspace(0.2, 1.0, 5), cv=10)\n",
    "\n",
    "print(N)\n",
    "plt.plot(N,train_score_lc.mean(axis=1), label='train')\n",
    "plt.plot(N,val_score_lc.mean(axis=1), label='validation')\n",
    "plt.xlabel('train_sizes')\n",
    "plt.legend()"
   ]
  },
  {
   "cell_type": "code",
   "execution_count": 28,
   "id": "5013c691-37b3-488c-9471-6c3d6238fc3e",
   "metadata": {},
   "outputs": [
    {
     "name": "stdout",
     "output_type": "stream",
     "text": [
      "0.9333333333333333\n",
      "0.8421052631578947\n"
     ]
    }
   ],
   "source": [
    "#Model DecisionTreeClassfier\n",
    "from sklearn.tree import DecisionTreeClassifier\n",
    "\n",
    "modeltree=DecisionTreeClassifier(max_depth=3,random_state=0)\n",
    "modeltree.fit(x_train,y_train)\n",
    "y_predtree=modeltree.predict(x_test)\n",
    "print(modeltree.score(x_train,y_train))\n",
    "print(modeltree.score(x_test,y_test))"
   ]
  },
  {
   "cell_type": "code",
   "execution_count": 44,
   "id": "feaf5ad0-6461-4961-969c-cf2ec6ec0fd3",
   "metadata": {},
   "outputs": [
    {
     "name": "stdout",
     "output_type": "stream",
     "text": [
      "[0.86956522 0.91304348 0.86956522 0.86956522 0.95652174 1.\n",
      " 0.95454545 0.90909091 0.81818182 0.81818182]\n",
      "0.924703557312253\n"
     ]
    },
    {
     "name": "stderr",
     "output_type": "stream",
     "text": [
      "C:\\Users\\adrie\\anaconda3\\lib\\site-packages\\sklearn\\utils\\validation.py:70: FutureWarning: Pass param_name=max_depth, param_range=[ 1  2  3  4  5  6  7  8  9 10 11 12 13 14 15 16 17 18 19 20 21 22 23 24\n",
      " 25 26 27 28 29] as keyword args. From version 1.0 (renaming of 0.25) passing these as positional arguments will result in an error\n",
      "  warnings.warn(f\"Pass {args_msg} as keyword args. From version \"\n"
     ]
    },
    {
     "data": {
      "text/plain": [
       "<matplotlib.legend.Legend at 0x247a5c02250>"
      ]
     },
     "execution_count": 44,
     "metadata": {},
     "output_type": "execute_result"
    },
    {
     "data": {
      "image/png": "[encoded data removed]",
      "text/plain": [
       "<Figure size 432x288 with 1 Axes>"
      ]
     },
     "metadata": {
      "needs_background": "light"
     },
     "output_type": "display_data"
    }
   ],
   "source": [
    "#Model decision tree crossval\n",
    "from sklearn.model_selection import cross_val_score\n",
    "tree_cvs = cross_val_score(DecisionTreeClassifier(), x_train, y_train, cv=10, scoring='accuracy').mean()\n",
    "print(cross_val_score(modeltree, x_train, y_train, cv=10, scoring='accuracy'))\n",
    "print(tree_cvs)\n",
    "\n",
    "#validation curve\n",
    "from sklearn.model_selection import validation_curve\n",
    "k = np.arange(1, 30)\n",
    "train_score, val_score = validation_curve(DecisionTreeClassifier(), x_train, y_train, 'max_depth', k, cv=10)\n",
    "\n",
    "#visualize the best k for n_neighbors\n",
    "plt.plot(k,val_score.mean(axis=1), label='validation')\n",
    "plt.plot(k,train_score.mean(axis=1), label='train')\n",
    "plt.ylabel('score')\n",
    "plt.xlabel('max_depth')\n",
    "plt.legend()"
   ]
  },
  {
   "cell_type": "code",
   "execution_count": 47,
   "id": "9828a677-2319-4195-8fd4-7ae125062c1d",
   "metadata": {},
   "outputs": [
    {
     "name": "stdout",
     "output_type": "stream",
     "text": [
      "0.9776679841897234\n",
      "{'criterion': 'entropy', 'max_depth': 9, 'splitter': 'random'}\n"
     ]
    },
    {
     "data": {
      "text/plain": [
       "0.9824561403508771"
      ]
     },
     "execution_count": 47,
     "metadata": {},
     "output_type": "execute_result"
    }
   ],
   "source": [
    "#gridSearchCV permet de rechercher les meilleurs hyperparamètres pour notre modèle\n",
    "from sklearn.model_selection import GridSearchCV\n",
    "param_grid = {'max_depth': np.arange(1,10),'criterion':['gini', 'entropy'], 'splitter':['best','random']}\n",
    "grid = GridSearchCV(DecisionTreeClassifier(), param_grid, cv=10)\n",
    "grid.fit(x_train, y_train)\n",
    "print(grid.best_score_) # meilleur score sur les données de validation\n",
    "print(grid.best_params_) # meilleurs paramètres\n",
    "modeltreegrid = grid.best_estimator_ #attribuer le modèle et ses meilleurs hyperparamètres à une variable\n",
    "modeltreegrid.score(x_test,y_test) # essai avec les données de test"
   ]
  },
  {
   "cell_type": "code",
   "execution_count": 48,
   "id": "273c39cc-b698-459d-8940-a7025ec26456",
   "metadata": {},
   "outputs": [
    {
     "data": {
      "image/png": "[encoded data removed]",
      "text/plain": [
       "<Figure size 432x288 with 2 Axes>"
      ]
     },
     "metadata": {
      "needs_background": "light"
     },
     "output_type": "display_data"
    }
   ],
   "source": [
    "#show confusion matrix for testset\n",
    "# indépendamment du score, les erreurs de diagnostics du type false negative sont particulièrement mauvaises\n",
    "from sklearn.metrics import plot_confusion_matrix\n",
    "plot_confusion_matrix(modeltreegrid, x_test, y_test)  \n",
    "plt.show() "
   ]
  },
  {
   "cell_type": "code",
   "execution_count": 63,
   "id": "55c44242-c073-4d47-8189-226a681c1ede",
   "metadata": {},
   "outputs": [
    {
     "name": "stdout",
     "output_type": "stream",
     "text": [
      "[ 40  58  76  94 112 130 148 166 184 202]\n"
     ]
    },
    {
     "data": {
      "text/plain": [
       "<matplotlib.legend.Legend at 0x247a836cfd0>"
      ]
     },
     "execution_count": 63,
     "metadata": {},
     "output_type": "execute_result"
    },
    {
     "data": {
      "image/png": "[encoded data removed]",
      "text/plain": [
       "<Figure size 432x288 with 1 Axes>"
      ]
     },
     "metadata": {
      "needs_background": "light"
     },
     "output_type": "display_data"
    }
   ],
   "source": [
    "# le learning rate va nous permettre de voir s'il serait intéressant de récolter plus de données\n",
    "# si nos courbes tendent vers une valeur fixe alors c'est le cas\n",
    "#ici la courbe continue d'augmenter, + de données donnerait alors un modèle plus performant\n",
    "\n",
    "from sklearn.model_selection import learning_curve\n",
    "\n",
    "N, train_score_lc, val_score_lc = learning_curve(modeltreegrid, x_train, y_train, train_sizes=np.linspace(0.2, 1.0, 10), cv=10)\n",
    "\n",
    "print(N)\n",
    "plt.plot(N,train_score_lc.mean(axis=1), label='train')\n",
    "plt.plot(N,val_score_lc.mean(axis=1), label='validation')\n",
    "plt.xlabel('train_sizes')\n",
    "plt.legend()"
   ]
  },
  {
   "cell_type": "code",
   "execution_count": null,
   "id": "84eb76d7-1e44-4107-bd0b-8a53bbd9af97",
   "metadata": {},
   "outputs": [],
   "source": []
  }
 ],
 "metadata": {
  "kernelspec": {
   "display_name": "Python 3",
   "language": "python",
   "name": "python3"
  },
  "language_info": {
   "codemirror_mode": {
    "name": "ipython",
    "version": 3
   },
   "file_extension": ".py",
   "mimetype": "text/x-python",
   "name": "python",
   "nbconvert_exporter": "python",
   "pygments_lexer": "ipython3",
   "version": "3.8.8"
  }
 },
 "nbformat": 4,
 "nbformat_minor": 5
}
